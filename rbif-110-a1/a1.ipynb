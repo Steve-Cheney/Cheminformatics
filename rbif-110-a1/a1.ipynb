{
 "cells": [
  {
   "cell_type": "markdown",
   "metadata": {},
   "source": [
    "# Assignment 1\n",
    "## Steve Cheney\n",
    "### RBIF110\n",
    "\n"
   ]
  },
  {
   "cell_type": "markdown",
   "metadata": {},
   "source": [
    "## Question 1"
   ]
  },
  {
   "cell_type": "code",
   "execution_count": 2,
   "metadata": {},
   "outputs": [
    {
     "name": "stdout",
     "output_type": "stream",
     "text": [
      "Requirement already satisfied: pandas in c:\\users\\stephen\\appdata\\local\\programs\\python\\python311\\lib\\site-packages (2.0.3)\n",
      "Requirement already satisfied: python-dateutil>=2.8.2 in c:\\users\\stephen\\appdata\\local\\programs\\python\\python311\\lib\\site-packages (from pandas) (2.8.2)\n",
      "Requirement already satisfied: pytz>=2020.1 in c:\\users\\stephen\\appdata\\local\\programs\\python\\python311\\lib\\site-packages (from pandas) (2023.3)\n",
      "Requirement already satisfied: tzdata>=2022.1 in c:\\users\\stephen\\appdata\\local\\programs\\python\\python311\\lib\\site-packages (from pandas) (2023.3)\n",
      "Requirement already satisfied: numpy>=1.21.0 in c:\\users\\stephen\\appdata\\local\\programs\\python\\python311\\lib\\site-packages (from pandas) (1.25.2)\n",
      "Requirement already satisfied: six>=1.5 in c:\\users\\stephen\\appdata\\local\\programs\\python\\python311\\lib\\site-packages (from python-dateutil>=2.8.2->pandas) (1.16.0)\n",
      "Note: you may need to restart the kernel to use updated packages.\n"
     ]
    },
    {
     "name": "stderr",
     "output_type": "stream",
     "text": [
      "\n",
      "[notice] A new release of pip is available: 23.3.1 -> 24.3.1\n",
      "[notice] To update, run: python.exe -m pip install --upgrade pip\n"
     ]
    },
    {
     "name": "stdout",
     "output_type": "stream",
     "text": [
      "Collecting rdkit\n",
      "  Using cached rdkit-2024.9.4-cp311-cp311-win_amd64.whl.metadata (4.1 kB)\n",
      "Requirement already satisfied: numpy in c:\\users\\stephen\\appdata\\local\\programs\\python\\python311\\lib\\site-packages (from rdkit) (1.25.2)\n",
      "Requirement already satisfied: Pillow in c:\\users\\stephen\\appdata\\local\\programs\\python\\python311\\lib\\site-packages (from rdkit) (10.0.0)\n",
      "Using cached rdkit-2024.9.4-cp311-cp311-win_amd64.whl (22.4 MB)\n",
      "Installing collected packages: rdkit\n",
      "Note: you may need to restart the kernel to use updated packages.\n"
     ]
    },
    {
     "name": "stderr",
     "output_type": "stream",
     "text": [
      "ERROR: Could not install packages due to an OSError: [WinError 5] Access is denied: 'c:\\\\Users\\\\Stephen\\\\AppData\\\\Local\\\\Programs\\\\Python\\\\Python311\\\\Lib\\\\site-packages\\\\rdkit\\\\rdBase.pyd'\n",
      "Consider using the `--user` option or check the permissions.\n",
      "\n",
      "\n",
      "[notice] A new release of pip is available: 23.3.1 -> 24.3.1\n",
      "[notice] To update, run: python.exe -m pip install --upgrade pip\n"
     ]
    },
    {
     "name": "stdout",
     "output_type": "stream",
     "text": [
      "Requirement already satisfied: numpy in c:\\users\\stephen\\appdata\\local\\programs\\python\\python311\\lib\\site-packages (1.25.2)\n",
      "Note: you may need to restart the kernel to use updated packages.\n"
     ]
    },
    {
     "name": "stderr",
     "output_type": "stream",
     "text": [
      "\n",
      "[notice] A new release of pip is available: 23.3.1 -> 24.3.1\n",
      "[notice] To update, run: python.exe -m pip install --upgrade pip\n"
     ]
    }
   ],
   "source": [
    "%pip install pandas\n",
    "%pip install rdkit\n",
    "%pip install numpy"
   ]
  },
  {
   "cell_type": "code",
   "execution_count": 18,
   "metadata": {},
   "outputs": [],
   "source": [
    "import pandas as pd\n",
    "from rdkit import Chem\n",
    "from rdkit.Chem import Draw\n",
    "from rdkit.Chem.Draw import IPythonConsole\n",
    "from rdkit import Chem\n",
    "from rdkit.Chem.MolStandardize import rdMolStandardize\n",
    "from rdkit.Chem import AllChem\n",
    "from rdkit.Chem import SaltRemover\n",
    "import numpy as np\n",
    "from rdkit.DataStructs import FingerprintSimilarity\n",
    "from rdkit import RDLogger\n",
    "from rdkit.Chem import PandasTools\n",
    "from rdkit import DataStructs\n"
   ]
  },
  {
   "cell_type": "markdown",
   "metadata": {},
   "source": [
    "### 1a. How many rows are in this file?"
   ]
  },
  {
   "cell_type": "code",
   "execution_count": 4,
   "metadata": {},
   "outputs": [
    {
     "name": "stdout",
     "output_type": "stream",
     "text": [
      "1a. Number of rows in the file: 1879206\n"
     ]
    }
   ],
   "source": [
    "file_path = 'CHEMBL25-dataset.csv.gz'\n",
    "\n",
    "# Read the compressed CSV file\n",
    "data = pd.read_csv(file_path, compression='gzip', sep=';')\n",
    "\n",
    "print(f'1a. Number of rows in the file: {len(data)}')"
   ]
  },
  {
   "cell_type": "markdown",
   "metadata": {},
   "source": [
    "### 1b. How many are classified as “small molecule”?"
   ]
  },
  {
   "cell_type": "code",
   "execution_count": 5,
   "metadata": {},
   "outputs": [
    {
     "name": "stdout",
     "output_type": "stream",
     "text": [
      "Index(['ChEMBL ID', 'Name', 'Synonyms', 'Type', 'Max Phase',\n",
      "       'Molecular Weight', 'Targets', 'Bioactivities', 'AlogP', 'PSA', 'HBA',\n",
      "       'HBD', '#RO5 Violations', '#Rotatable Bonds', 'Passes Ro3',\n",
      "       'QED Weighted', 'ACD ApKa', 'ACD BpKa', 'ACD LogP', 'ACD LogD',\n",
      "       'Aromatic Rings', 'Structure Type', 'Inorganic Flag', 'Heavy Atoms',\n",
      "       'HBA Lipinski', 'HBD Lipinski', '#RO5 Violations (Lipinski)',\n",
      "       'Molecular Weight (Monoisotopic)', 'Molecular Species',\n",
      "       'Molecular Formula', 'Smiles'],\n",
      "      dtype='object')\n",
      "1b. Number of Small molecules: 1849655 (98.427%)\n"
     ]
    }
   ],
   "source": [
    "print(data.columns)\n",
    "\n",
    "small_molecule_count = (data['Type'] == 'Small molecule').sum()\n",
    "\n",
    "print(f\"1b. Number of Small molecules: {small_molecule_count} ({(small_molecule_count/len(data) * 100):.3f}%)\")"
   ]
  },
  {
   "cell_type": "markdown",
   "metadata": {},
   "source": [
    "### 1c. How are the molecules represented?"
   ]
  },
  {
   "cell_type": "markdown",
   "metadata": {},
   "source": [
    "\n",
    "1. **ChEMBL ID**: A unique identifier for each molecule (e.g., `CHEMBL3214695`).\n",
    "2. **Name**: The chemical name or common name (e.g., `GLPG-0555`).\n",
    "3. **Synonyms**: Alternate names for the molecule (e.g., `GLPG-0555`).\n",
    "4. **Type**: Describes the type of molecule, such as `\"Small molecule\"`.\n",
    "5. **Molecular Weight**: The molecular weight of the compound (e.g., `392.91`).\n",
    "6. **Molecular Formula**: The chemical formula of the molecule (e.g., `C18H21ClN4O2S`).\n",
    "7. **SMILES**: A text-based representation of the molecule's structure (`SMILES` notation) (e.g., `CCN1CCc2c...`).\n",
    "8. **Structure Type**: Indicates how the structure is defined (e.g., `MOL` or `NONE`)."
   ]
  },
  {
   "cell_type": "markdown",
   "metadata": {},
   "source": [
    "### 1d. Are there duplicates? How many?"
   ]
  },
  {
   "cell_type": "code",
   "execution_count": 6,
   "metadata": {},
   "outputs": [
    {
     "name": "stdout",
     "output_type": "stream",
     "text": [
      "Number of duplicate ChEMBL IDs: 0\n",
      "Number of duplicate Names: 1836031\n",
      "Number of duplicate SMILES: 8895\n"
     ]
    }
   ],
   "source": [
    "# Count the number of duplicate ChEMBL IDs\n",
    "duplicate_chembl_count = data['ChEMBL ID'].duplicated().dropna().sum()\n",
    "print(f\"Number of duplicate ChEMBL IDs: {duplicate_chembl_count}\")\n",
    "# Count the number of duplicate Names\n",
    "duplicate_name_count = data['Name'].duplicated().dropna().sum()\n",
    "print(f\"Number of duplicate Names: {duplicate_name_count}\")\n",
    "# Count the number of duplicate SMILES entries (ignoring missing values)\n",
    "duplicate_smiles_count = data['Smiles'].duplicated().dropna().sum()\n",
    "print(f\"Number of duplicate SMILES: {duplicate_smiles_count}\")"
   ]
  },
  {
   "cell_type": "markdown",
   "metadata": {},
   "source": [
    "### 1e. Is seliciclib in this dataset?"
   ]
  },
  {
   "cell_type": "code",
   "execution_count": 7,
   "metadata": {},
   "outputs": [
    {
     "name": "stdout",
     "output_type": "stream",
     "text": [
      "Matching entry found:\n",
      "          ChEMBL ID        Name                     Synonyms            Type  \\\n",
      "788837  CHEMBL14762  SELICICLIB  AL-39256|CYC-202|SELICICLIB  Small molecule   \n",
      "\n",
      "        Max Phase  Molecular Weight  Targets  Bioactivities  AlogP    PSA  \\\n",
      "788837          2            354.46      894         2149.0    3.2  87.89   \n",
      "\n",
      "        ...  Structure Type  Inorganic Flag  Heavy Atoms  HBA Lipinski  \\\n",
      "788837  ...             MOL               0         26.0           7.0   \n",
      "\n",
      "       HBD Lipinski  #RO5 Violations (Lipinski)  \\\n",
      "788837          3.0                         0.0   \n",
      "\n",
      "        Molecular Weight (Monoisotopic)  Molecular Species  Molecular Formula  \\\n",
      "788837                         354.2168            NEUTRAL          C19H26N6O   \n",
      "\n",
      "                                              Smiles  \n",
      "788837  CC[C@H](CO)Nc1nc(NCc2ccccc2)c3ncn(C(C)C)c3n1  \n",
      "\n",
      "[1 rows x 31 columns]\n"
     ]
    }
   ],
   "source": [
    "# From ChEMBL:\n",
    "# ID: CHEMBL14762\n",
    "# Name: SELICICLIB\n",
    "# Molecular Formula: C19H26N6O\n",
    "# SMILES: CC[C@H](CO)Nc1nc(NCc2ccccc2)c2ncn(C(C)C)c2n1\n",
    "\n",
    "search_criteria = {\n",
    "    'ChEMBL ID': 'CHEMBL14762',\n",
    "    'Name': 'SELICICLIB',\n",
    "    'Molecular Formula': 'C19H26N6O',\n",
    "    'Smiles': 'CC[C@H](CO)Nc1nc(NCc2ccccc2)c2ncn(C(C)C)c2n1'\n",
    "}\n",
    "\n",
    "matching_entry = data[\n",
    "    (data['ChEMBL ID'] == search_criteria['ChEMBL ID'])\n",
    "    & (data['Name'].str.lower() == search_criteria['Name'].lower())\n",
    "    # & (data['Molecular Formula'] == search_criteria['Molecular Formula'])\n",
    "    # & (data['Smiles'] == search_criteria['Smiles'])\n",
    "]\n",
    "\n",
    "if not matching_entry.empty:\n",
    "    print(\"Matching entry found:\")\n",
    "    print(matching_entry)\n",
    "else:\n",
    "    print(\"No matching entry found.\")"
   ]
  },
  {
   "cell_type": "markdown",
   "metadata": {},
   "source": [
    "Intestingly, while the ChEMBL ID and the name of the drug is found within our dataset here, the SMILES string according to [the online ChEMBL database](https://www.ebi.ac.uk/chembl/explore/compound/CHEMBL14762) is slightly different that what's found in our dataset."
   ]
  },
  {
   "cell_type": "markdown",
   "metadata": {},
   "source": [
    "## Question 2"
   ]
  },
  {
   "cell_type": "markdown",
   "metadata": {},
   "source": [
    "### 2a. Construct a workflow to produce RDkit fingerprints from appropriate column in the dataset. Which fingerprints and why (explain your selection)?\n",
    "### 2b. What are the pre-processing steps that should be used before fingerprinting digital molecules? (1 point)\n",
    "### 2c. What fingerprint depth did you use? What are the implications?\n",
    "### 2e. Find the 3 most similar compounds to Seliciclib from the dataset using three different sets of parameters of your choice. Explain your choices."
   ]
  },
  {
   "cell_type": "code",
   "execution_count": 11,
   "metadata": {},
   "outputs": [
    {
     "data": {
      "text/html": [
       "<div>\n",
       "<style scoped>\n",
       "    .dataframe tbody tr th:only-of-type {\n",
       "        vertical-align: middle;\n",
       "    }\n",
       "\n",
       "    .dataframe tbody tr th {\n",
       "        vertical-align: top;\n",
       "    }\n",
       "\n",
       "    .dataframe thead th {\n",
       "        text-align: right;\n",
       "    }\n",
       "</style>\n",
       "<table border=\"1\" class=\"dataframe\">\n",
       "  <thead>\n",
       "    <tr style=\"text-align: right;\">\n",
       "      <th></th>\n",
       "      <th>ChEMBL ID</th>\n",
       "      <th>Name</th>\n",
       "      <th>Synonyms</th>\n",
       "      <th>Type</th>\n",
       "      <th>Max Phase</th>\n",
       "      <th>Molecular Weight</th>\n",
       "      <th>Targets</th>\n",
       "      <th>Bioactivities</th>\n",
       "      <th>AlogP</th>\n",
       "      <th>PSA</th>\n",
       "      <th>...</th>\n",
       "      <th>HBA Lipinski</th>\n",
       "      <th>HBD Lipinski</th>\n",
       "      <th>#RO5 Violations (Lipinski)</th>\n",
       "      <th>Molecular Weight (Monoisotopic)</th>\n",
       "      <th>Molecular Species</th>\n",
       "      <th>Molecular Formula</th>\n",
       "      <th>Smiles</th>\n",
       "      <th>rdkit_mol</th>\n",
       "      <th>standardized_mol</th>\n",
       "      <th>fingerprint</th>\n",
       "    </tr>\n",
       "  </thead>\n",
       "  <tbody>\n",
       "    <tr>\n",
       "      <th>2</th>\n",
       "      <td>CHEMBL4116853</td>\n",
       "      <td>NaN</td>\n",
       "      <td>NaN</td>\n",
       "      <td>Small molecule</td>\n",
       "      <td>0</td>\n",
       "      <td>392.91</td>\n",
       "      <td>0</td>\n",
       "      <td>NaN</td>\n",
       "      <td>3.20</td>\n",
       "      <td>87.46</td>\n",
       "      <td>...</td>\n",
       "      <td>6.0</td>\n",
       "      <td>4.0</td>\n",
       "      <td>0.0</td>\n",
       "      <td>392.1074</td>\n",
       "      <td>NEUTRAL</td>\n",
       "      <td>C18H21ClN4O2S</td>\n",
       "      <td>CCN1CCc2c(C1)sc(NC(=O)NCc3cccc(Cl)c3)c2C(=O)N</td>\n",
       "      <td>&lt;rdkit.Chem.rdchem.Mol object at 0x000002230A5...</td>\n",
       "      <td>&lt;rdkit.Chem.rdchem.Mol object at 0x000002230A5...</td>\n",
       "      <td>[0, 0, 0, 0, 0, 0, 0, 0, 0, 0, 0, 0, 0, 0, 0, ...</td>\n",
       "    </tr>\n",
       "    <tr>\n",
       "      <th>5</th>\n",
       "      <td>CHEMBL4117318</td>\n",
       "      <td>NaN</td>\n",
       "      <td>NaN</td>\n",
       "      <td>Small molecule</td>\n",
       "      <td>0</td>\n",
       "      <td>498.45</td>\n",
       "      <td>0</td>\n",
       "      <td>NaN</td>\n",
       "      <td>6.35</td>\n",
       "      <td>44.81</td>\n",
       "      <td>...</td>\n",
       "      <td>5.0</td>\n",
       "      <td>1.0</td>\n",
       "      <td>1.0</td>\n",
       "      <td>497.1637</td>\n",
       "      <td>NEUTRAL</td>\n",
       "      <td>C27H29Cl2N3O2</td>\n",
       "      <td>Clc1cccc(N2CCN(CCCCNC(=O)Oc3ccc(cc3)c4ccccc4)C...</td>\n",
       "      <td>&lt;rdkit.Chem.rdchem.Mol object at 0x000002230A5...</td>\n",
       "      <td>&lt;rdkit.Chem.rdchem.Mol object at 0x0000022DD7B...</td>\n",
       "      <td>[0, 0, 0, 0, 0, 0, 0, 0, 0, 0, 0, 0, 0, 0, 0, ...</td>\n",
       "    </tr>\n",
       "    <tr>\n",
       "      <th>6</th>\n",
       "      <td>CHEMBL4116337</td>\n",
       "      <td>NaN</td>\n",
       "      <td>NaN</td>\n",
       "      <td>Small molecule</td>\n",
       "      <td>0</td>\n",
       "      <td>524.45</td>\n",
       "      <td>0</td>\n",
       "      <td>NaN</td>\n",
       "      <td>5.27</td>\n",
       "      <td>116.95</td>\n",
       "      <td>...</td>\n",
       "      <td>8.0</td>\n",
       "      <td>4.0</td>\n",
       "      <td>2.0</td>\n",
       "      <td>523.0790</td>\n",
       "      <td>BASE</td>\n",
       "      <td>C23H22BrN7OS</td>\n",
       "      <td>NC(=N)N1CCC[C@H]1Cc2onc(n2)c3ccc(Nc4nc(cs4)c5c...</td>\n",
       "      <td>&lt;rdkit.Chem.rdchem.Mol object at 0x00000223428...</td>\n",
       "      <td>&lt;rdkit.Chem.rdchem.Mol object at 0x0000022DD7B...</td>\n",
       "      <td>[0, 0, 0, 0, 1, 0, 0, 0, 0, 0, 0, 0, 0, 0, 0, ...</td>\n",
       "    </tr>\n",
       "    <tr>\n",
       "      <th>7</th>\n",
       "      <td>CHEMBL2105851</td>\n",
       "      <td>BISDEQUALINIUM DIACETATE</td>\n",
       "      <td>BISDEQUALINIUM DIACETATE</td>\n",
       "      <td>Small molecule</td>\n",
       "      <td>0</td>\n",
       "      <td>713.02</td>\n",
       "      <td>0</td>\n",
       "      <td>NaN</td>\n",
       "      <td>9.96</td>\n",
       "      <td>31.82</td>\n",
       "      <td>...</td>\n",
       "      <td>4.0</td>\n",
       "      <td>2.0</td>\n",
       "      <td>2.0</td>\n",
       "      <td>594.4651</td>\n",
       "      <td>NEUTRAL</td>\n",
       "      <td>C44H64N4O4</td>\n",
       "      <td>CC(=O)[O-].CC(=O)[O-].Cc1cc2NCCCCCCCCCCNc3cc(C...</td>\n",
       "      <td>&lt;rdkit.Chem.rdchem.Mol object at 0x00000223428...</td>\n",
       "      <td>&lt;rdkit.Chem.rdchem.Mol object at 0x0000022DD7B...</td>\n",
       "      <td>[0, 0, 1, 0, 1, 0, 0, 0, 0, 0, 0, 0, 0, 0, 0, ...</td>\n",
       "    </tr>\n",
       "    <tr>\n",
       "      <th>8</th>\n",
       "      <td>CHEMBL3991223</td>\n",
       "      <td>NaN</td>\n",
       "      <td>NaN</td>\n",
       "      <td>Small molecule</td>\n",
       "      <td>0</td>\n",
       "      <td>447.90</td>\n",
       "      <td>0</td>\n",
       "      <td>NaN</td>\n",
       "      <td>3.09</td>\n",
       "      <td>85.27</td>\n",
       "      <td>...</td>\n",
       "      <td>8.0</td>\n",
       "      <td>1.0</td>\n",
       "      <td>0.0</td>\n",
       "      <td>447.1473</td>\n",
       "      <td>NEUTRAL</td>\n",
       "      <td>C21H23ClFN5O3</td>\n",
       "      <td>CC(N1CC(C1)Oc2c(F)cccc2Cl)C3=Nc4c(cnn4C5CCOCC5...</td>\n",
       "      <td>&lt;rdkit.Chem.rdchem.Mol object at 0x00000223428...</td>\n",
       "      <td>&lt;rdkit.Chem.rdchem.Mol object at 0x0000022DD7B...</td>\n",
       "      <td>[0, 1, 0, 0, 0, 0, 0, 0, 1, 1, 0, 0, 0, 0, 0, ...</td>\n",
       "    </tr>\n",
       "  </tbody>\n",
       "</table>\n",
       "<p>5 rows × 34 columns</p>\n",
       "</div>"
      ],
      "text/plain": [
       "       ChEMBL ID                      Name                  Synonyms  \\\n",
       "2  CHEMBL4116853                       NaN                       NaN   \n",
       "5  CHEMBL4117318                       NaN                       NaN   \n",
       "6  CHEMBL4116337                       NaN                       NaN   \n",
       "7  CHEMBL2105851  BISDEQUALINIUM DIACETATE  BISDEQUALINIUM DIACETATE   \n",
       "8  CHEMBL3991223                       NaN                       NaN   \n",
       "\n",
       "             Type  Max Phase  Molecular Weight  Targets  Bioactivities  AlogP  \\\n",
       "2  Small molecule          0            392.91        0            NaN   3.20   \n",
       "5  Small molecule          0            498.45        0            NaN   6.35   \n",
       "6  Small molecule          0            524.45        0            NaN   5.27   \n",
       "7  Small molecule          0            713.02        0            NaN   9.96   \n",
       "8  Small molecule          0            447.90        0            NaN   3.09   \n",
       "\n",
       "      PSA  ...  HBA Lipinski  HBD Lipinski  #RO5 Violations (Lipinski)  \\\n",
       "2   87.46  ...           6.0           4.0                         0.0   \n",
       "5   44.81  ...           5.0           1.0                         1.0   \n",
       "6  116.95  ...           8.0           4.0                         2.0   \n",
       "7   31.82  ...           4.0           2.0                         2.0   \n",
       "8   85.27  ...           8.0           1.0                         0.0   \n",
       "\n",
       "   Molecular Weight (Monoisotopic) Molecular Species  Molecular Formula  \\\n",
       "2                         392.1074           NEUTRAL      C18H21ClN4O2S   \n",
       "5                         497.1637           NEUTRAL      C27H29Cl2N3O2   \n",
       "6                         523.0790              BASE       C23H22BrN7OS   \n",
       "7                         594.4651           NEUTRAL         C44H64N4O4   \n",
       "8                         447.1473           NEUTRAL      C21H23ClFN5O3   \n",
       "\n",
       "                                              Smiles  \\\n",
       "2      CCN1CCc2c(C1)sc(NC(=O)NCc3cccc(Cl)c3)c2C(=O)N   \n",
       "5  Clc1cccc(N2CCN(CCCCNC(=O)Oc3ccc(cc3)c4ccccc4)C...   \n",
       "6  NC(=N)N1CCC[C@H]1Cc2onc(n2)c3ccc(Nc4nc(cs4)c5c...   \n",
       "7  CC(=O)[O-].CC(=O)[O-].Cc1cc2NCCCCCCCCCCNc3cc(C...   \n",
       "8  CC(N1CC(C1)Oc2c(F)cccc2Cl)C3=Nc4c(cnn4C5CCOCC5...   \n",
       "\n",
       "                                           rdkit_mol  \\\n",
       "2  <rdkit.Chem.rdchem.Mol object at 0x000002230A5...   \n",
       "5  <rdkit.Chem.rdchem.Mol object at 0x000002230A5...   \n",
       "6  <rdkit.Chem.rdchem.Mol object at 0x00000223428...   \n",
       "7  <rdkit.Chem.rdchem.Mol object at 0x00000223428...   \n",
       "8  <rdkit.Chem.rdchem.Mol object at 0x00000223428...   \n",
       "\n",
       "                                    standardized_mol  \\\n",
       "2  <rdkit.Chem.rdchem.Mol object at 0x000002230A5...   \n",
       "5  <rdkit.Chem.rdchem.Mol object at 0x0000022DD7B...   \n",
       "6  <rdkit.Chem.rdchem.Mol object at 0x0000022DD7B...   \n",
       "7  <rdkit.Chem.rdchem.Mol object at 0x0000022DD7B...   \n",
       "8  <rdkit.Chem.rdchem.Mol object at 0x0000022DD7B...   \n",
       "\n",
       "                                         fingerprint  \n",
       "2  [0, 0, 0, 0, 0, 0, 0, 0, 0, 0, 0, 0, 0, 0, 0, ...  \n",
       "5  [0, 0, 0, 0, 0, 0, 0, 0, 0, 0, 0, 0, 0, 0, 0, ...  \n",
       "6  [0, 0, 0, 0, 1, 0, 0, 0, 0, 0, 0, 0, 0, 0, 0, ...  \n",
       "7  [0, 0, 1, 0, 1, 0, 0, 0, 0, 0, 0, 0, 0, 0, 0, ...  \n",
       "8  [0, 1, 0, 0, 0, 0, 0, 0, 1, 1, 0, 0, 0, 0, 0, ...  \n",
       "\n",
       "[5 rows x 34 columns]"
      ]
     },
     "execution_count": 11,
     "metadata": {},
     "output_type": "execute_result"
    }
   ],
   "source": [
    "def standardize_smiles(smiles):\n",
    "    '''This function takes a non-canonical SMILES and\n",
    "    returns the canonical version\n",
    "\n",
    "    Args:\n",
    "        -smiles: str, non-canonical SMILES of a molecule\n",
    "\n",
    "    Out:\n",
    "        - canonical_smiles: str, canonical SMILES of the molecule\n",
    "    '''\n",
    "\n",
    "    # Handle any issues with missing values\n",
    "    if not isinstance(smiles, str) or smiles.strip() == \"\" or pd.isna(smiles):\n",
    "        return None\n",
    "    \n",
    "    mol = Chem.MolFromSmiles(smiles) #create a mol object from input smiles\n",
    "\n",
    "\n",
    "    largest_Fragment = rdMolStandardize.LargestFragmentChooser()    \n",
    "    standardized_smiles = largest_Fragment.choose(mol) #standardize the input string by taking the largest fragment\n",
    "\n",
    "    canonical_smiles = Chem.MolToSmiles(standardized_smiles) #convert the previous mol object to SMILES using Chem.MolToSmiles()\n",
    "\n",
    "    ####END\n",
    "    return canonical_smiles\n",
    "\n",
    "def get_standard_mol(smiles):\n",
    "    '''This function takes a non-canonical SMILES converts to the canonical version, then returns the mol object\n",
    "\n",
    "    Args:\n",
    "        -smiles: str, non-canonical SMILES of a molecule\n",
    "\n",
    "    Out:\n",
    "        - obj: mol object of the converted canonical molecule\n",
    "    '''\n",
    "    \n",
    "    if smiles is None:\n",
    "        return None\n",
    "\n",
    "    try:\n",
    "        mol_obj = Chem.MolFromSmiles(standardize_smiles(smiles))\n",
    "        return mol_obj if mol_obj else None\n",
    "    except:\n",
    "        return None\n",
    "\n",
    "def get_fingerprint(mol, radius=2, bits=1024):\n",
    "    if mol is None:\n",
    "        return None  # Prevents passing None to the RDKit function\n",
    "    \n",
    "    return AllChem.GetMorganFingerprintAsBitVect(mol, radius=radius, nBits=bits)\n",
    "\n",
    "# Suppress RDKit warnings and informational messages\n",
    "RDLogger.DisableLog('rdApp.*')  # Disables all RDKit logging messages\n",
    "\n",
    "def clean_df_and_create_mol_col(df, smilesCol, molCol, subset_len=-1, remove_na=True):\n",
    "\n",
    "    if subset_len == -1:\n",
    "        data_subset = df.copy()\n",
    "    else:\n",
    "        data_subset = df.iloc[:subset_len].copy()\n",
    "\n",
    "    # Clean data\n",
    "    data_subset = data_subset[data_subset[smilesCol].notna()]  # Remove NaN values\n",
    "    data_subset[smilesCol] = data_subset[smilesCol].astype(str)  # Ensure all values are strings\n",
    "\n",
    "    PandasTools.AddMoleculeColumnToFrame(data_subset, smilesCol=smilesCol, molCol=molCol)\n",
    "\n",
    "    return data_subset\n",
    "\n",
    "\n",
    "# Clean the data to ignore any NaN smiles values and subset data if needed\n",
    "data_subset = clean_df_and_create_mol_col(data, 'Smiles', 'rdkit_mol')\n",
    "# Get the standardized mol object from the standard SMILES\n",
    "data_subset['standardized_mol'] = data_subset['Smiles'].apply(get_standard_mol)\n",
    "# Get the fingerprint\n",
    "data_subset['fingerprint'] = data_subset['standardized_mol'].apply(get_fingerprint)\n",
    "data_subset.head()"
   ]
  },
  {
   "cell_type": "code",
   "execution_count": 12,
   "metadata": {},
   "outputs": [],
   "source": [
    "data_subset.to_pickle('fingerprint_data.pkl')\n"
   ]
  },
  {
   "cell_type": "code",
   "execution_count": 22,
   "metadata": {},
   "outputs": [
    {
     "name": "stdout",
     "output_type": "stream",
     "text": [
      "<rdkit.DataStructs.cDataStructs.ExplicitBitVect object at 0x00000238EBF8CAC0>\n",
      "Top 5 most similar compounds:\n",
      "['CHEMBL133342', 'CHEMBL52387', 'CHEMBL461557', 'CHEMBL131697', 'CHEMBL2111870']\n",
      "['(S)-ROSCOVITINE', '(RS)-ROSCOVITINE', nan, nan, nan]\n"
     ]
    }
   ],
   "source": [
    "# Set up seliciclib for comparison\n",
    "#seliciclib_smiles = 'CC[C@H](CO)Nc1nc(NCc2ccccc2)c3ncn(C(C)C)c3n1'\n",
    "#seliciclib = get_standard_mol(seliciclib_smiles)\n",
    "\n",
    "seliciclib_fp = data_subset.loc[data_subset['ChEMBL ID'] == \"CHEMBL14762\", 'fingerprint'].iloc[0]\n",
    "print(seliciclib_fp)\n",
    "\n",
    "# Calculate the similarity of each fingerprint to seliciclib_fp and store results in a new column\n",
    "data_subset['similarity'] = data_subset['fingerprint'].apply(\n",
    "    lambda fp: DataStructs.FingerprintSimilarity(seliciclib_fp, fp) if fp is not None else 0\n",
    ")\n",
    "\n",
    "# Sort the DataFrame by similarity and get the top 5 most similar compounds\n",
    "top_5_similar = data_subset[data_subset['ChEMBL ID'] != \"CHEMBL14762\"].sort_values(by='similarity', ascending=False).head(5)\n",
    "\n",
    "# Return the 'Name' column of the top 5 results\n",
    "top_5_ids = top_5_similar['ChEMBL ID'].tolist()\n",
    "top_5_names = top_5_similar['Name'].tolist()\n",
    "\n",
    "print(\"Top 5 most similar compounds:\")\n",
    "print(top_5_ids)\n",
    "print(top_5_names)"
   ]
  },
  {
   "cell_type": "code",
   "execution_count": 23,
   "metadata": {},
   "outputs": [],
   "source": [
    "bit_list = [64, 128, 256, 512, 1024]\n",
    "new_fp_data = data_subset.copy()\n",
    "for bit in bit_list:\n",
    "    new_fp_data[f'fingerprint_{bit}'] = new_fp_data['standardized_mol'].apply(lambda mol: get_fingerprint(mol, radius=2, bits=bit))\n"
   ]
  },
  {
   "cell_type": "code",
   "execution_count": 27,
   "metadata": {},
   "outputs": [
    {
     "name": "stdout",
     "output_type": "stream",
     "text": [
      "Top 3 most similar compounds (fingerprint_64):\n",
      "(CHEMBL133342, (S)-ROSCOVITINE); (CHEMBL52387, (RS)-ROSCOVITINE); (CHEMBL461557, nan)\n",
      "Top 3 most similar compounds (fingerprint_128):\n",
      "(CHEMBL52387, (RS)-ROSCOVITINE); (CHEMBL133342, (S)-ROSCOVITINE); (CHEMBL461557, nan)\n",
      "Top 3 most similar compounds (fingerprint_256):\n",
      "(CHEMBL133342, (S)-ROSCOVITINE); (CHEMBL52387, (RS)-ROSCOVITINE); (CHEMBL461557, nan)\n",
      "Top 3 most similar compounds (fingerprint_512):\n",
      "(CHEMBL133342, (S)-ROSCOVITINE); (CHEMBL52387, (RS)-ROSCOVITINE); (CHEMBL461557, nan)\n",
      "Top 3 most similar compounds (fingerprint_1024):\n",
      "(CHEMBL133342, (S)-ROSCOVITINE); (CHEMBL52387, (RS)-ROSCOVITINE); (CHEMBL461557, nan)\n",
      "Top 3 most similar compounds (fingerprint):\n",
      "(CHEMBL133342, (S)-ROSCOVITINE); (CHEMBL52387, (RS)-ROSCOVITINE); (CHEMBL461557, nan)\n"
     ]
    }
   ],
   "source": [
    "def rank_fingerprints(chemblid):\n",
    "    fp_bits = ['fingerprint_64', 'fingerprint_128', 'fingerprint_256', 'fingerprint_512', 'fingerprint_1024', 'fingerprint']\n",
    "\n",
    "    for fp_bit in fp_bits:\n",
    "\n",
    "        fp_to_compare = new_fp_data.loc[new_fp_data['ChEMBL ID'] == chemblid, fp_bit].iloc[0]\n",
    "\n",
    "        # Calculate the similarity of each fingerprint to seliciclib_fp and store results in a new column\n",
    "        new_fp_data['similarity'] = new_fp_data[fp_bit].apply(\n",
    "            lambda fp: DataStructs.FingerprintSimilarity(fp_to_compare, fp) if fp is not None else 0\n",
    "        )\n",
    "\n",
    "        # Sort the DataFrame by similarity and get the top 5 most similar compounds\n",
    "        top_3_similar = new_fp_data[new_fp_data['ChEMBL ID'] != chemblid].sort_values(by='similarity', ascending=False).head(3)\n",
    "\n",
    "        # Return the 'Name' column of the top 3 results\n",
    "        top_3_ids = top_3_similar['ChEMBL ID'].tolist()\n",
    "        top_3_names = top_3_similar['Name'].tolist()\n",
    "\n",
    "        print(f\"Top 3 most similar compounds ({fp_bit}):\")\n",
    "        #print(top_3_ids)\n",
    "        #print(top_3_names)\n",
    "        print(f\"({top_3_ids[0]}, {top_3_names[0]}); ({top_3_ids[1]}, {top_3_names[1]}); ({top_3_ids[2]}, {top_3_names[2]})\")\n",
    "\n",
    "rank_fingerprints(\"CHEMBL14762\")"
   ]
  },
  {
   "cell_type": "markdown",
   "metadata": {},
   "source": [
    "The workflow I created for generating RDKit fingerprints begins with standardizing the molecular representation through the `standardize_smiles` function, which ensures that molecules are represented consistently. This step avoids redundancy due to different notations for the same molecule. The `clean_df_and_create_mol_col` function further preprocesses the data by handling missing values and converting SMILES strings to RDKit Mol objects. Fingerprints are generated using the `get_fingerprint` function, specifically the Morgan fingerprint, also known as the extended connectivity fingerprint (ECFP) [1]. I chose Morgan fingerprints due to their effectiveness in representing molecular structures for similarity analysis and their wide usage in cheminformatics (as well as because they were one of the useful examples in the topic notes). The circular nature of Morgan fingerprints captures topological features and molecular fragments, making them ideal for comparing small molecule libraries in drug discovery. This workflow was validated across different fingerprint sizes, ranging from 64 to 2048 bits, to assess how varying fingerprint depth affects the similarity ranking [2].\n",
    "\n",
    "Regarding fingerprint depth, multiple bit lengths (64, 128, 256, 512, 1024, and 2048 denoted as just `fingerprint`) were tested. Higher bit depths generally offer more detailed molecular descriptions, reducing the risk of hash collisions but potentially leading to sparsity in the data. The consistent top results across varying bit sizes in this analysis indicate that increasing fingerprint depth beyond 256 bits did not significantly alter the rankings, suggesting diminishing returns for this dataset. Selecting the optimal fingerprint depth balances capturing sufficient structural information while avoiding excessive computational cost and data sparsity [2].\n",
    "\n",
    "One thing of note I found during this excercise was how long it took to process the data across this dataset. It took almost 45 minutes to run the initial preprocessing steps and an additional 50 minutes to add in the extra fingerprint sizes to the data. For the sake of future work, I saved the preprocessed data (without the additional fingerprints) to a PKL file, a very common python data file that keeps ojects stored in place, since my dataframe contained multiple RDKit objects.\n",
    "\n",
    "1. https://www.rdkit.org/docs/GettingStartedInPython.html#id13\n",
    "2. Capecchi, A., Probst, D. & Reymond, JL. One molecular fingerprint to rule them all: drugs, biomolecules, and the metabolome. J Cheminform 12, 43 (2020). https://doi.org/10.1186/s13321-020-00445-4"
   ]
  },
  {
   "cell_type": "markdown",
   "metadata": {},
   "source": [
    "### 2d. Is there chiral information in this dataset?"
   ]
  },
  {
   "cell_type": "code",
   "execution_count": 30,
   "metadata": {},
   "outputs": [
    {
     "data": {
      "text/plain": [
       "482038"
      ]
     },
     "execution_count": 30,
     "metadata": {},
     "output_type": "execute_result"
    }
   ],
   "source": [
    "len(data_subset[data_subset['Smiles'].str.contains('@')])\n"
   ]
  },
  {
   "cell_type": "markdown",
   "metadata": {},
   "source": [
    "There is chiral information in this dataset if we were to take a look at our SMILES strings. Since the `@` symbol indicates a chiral carbon, we can see that there are `482038` entries that contain at least one chiral carbon."
   ]
  },
  {
   "cell_type": "markdown",
   "metadata": {},
   "source": [
    "### 2f. Generate a report about the different sets of results. What do these molecules target? How are the different or similar?"
   ]
  },
  {
   "cell_type": "code",
   "execution_count": 34,
   "metadata": {},
   "outputs": [
    {
     "data": {
      "text/html": [
       "<div>\n",
       "<style scoped>\n",
       "    .dataframe tbody tr th:only-of-type {\n",
       "        vertical-align: middle;\n",
       "    }\n",
       "\n",
       "    .dataframe tbody tr th {\n",
       "        vertical-align: top;\n",
       "    }\n",
       "\n",
       "    .dataframe thead th {\n",
       "        text-align: right;\n",
       "    }\n",
       "</style>\n",
       "<table border=\"1\" class=\"dataframe\">\n",
       "  <thead>\n",
       "    <tr style=\"text-align: right;\">\n",
       "      <th></th>\n",
       "      <th>TPSA</th>\n",
       "      <th>MolLogP</th>\n",
       "      <th>NumHAcceptors</th>\n",
       "      <th>NumHDonors</th>\n",
       "      <th>RingCount</th>\n",
       "      <th>NumAromaticHeterocycles</th>\n",
       "    </tr>\n",
       "  </thead>\n",
       "  <tbody>\n",
       "    <tr>\n",
       "      <th>CHEMBL52387</th>\n",
       "      <td>87.89</td>\n",
       "      <td>3.2021</td>\n",
       "      <td>7</td>\n",
       "      <td>3</td>\n",
       "      <td>3</td>\n",
       "      <td>2</td>\n",
       "    </tr>\n",
       "    <tr>\n",
       "      <th>CHEMBL133342</th>\n",
       "      <td>87.89</td>\n",
       "      <td>3.2021</td>\n",
       "      <td>7</td>\n",
       "      <td>3</td>\n",
       "      <td>3</td>\n",
       "      <td>2</td>\n",
       "    </tr>\n",
       "    <tr>\n",
       "      <th>CHEMBL461557</th>\n",
       "      <td>87.89</td>\n",
       "      <td>4.8691</td>\n",
       "      <td>7</td>\n",
       "      <td>3</td>\n",
       "      <td>4</td>\n",
       "      <td>2</td>\n",
       "    </tr>\n",
       "  </tbody>\n",
       "</table>\n",
       "</div>"
      ],
      "text/plain": [
       "               TPSA  MolLogP  NumHAcceptors  NumHDonors  RingCount  \\\n",
       "CHEMBL52387   87.89   3.2021              7           3          3   \n",
       "CHEMBL133342  87.89   3.2021              7           3          3   \n",
       "CHEMBL461557  87.89   4.8691              7           3          4   \n",
       "\n",
       "              NumAromaticHeterocycles  \n",
       "CHEMBL52387                         2  \n",
       "CHEMBL133342                        2  \n",
       "CHEMBL461557                        2  "
      ]
     },
     "execution_count": 34,
     "metadata": {},
     "output_type": "execute_result"
    }
   ],
   "source": [
    "from rdkit.ML.Descriptors.MoleculeDescriptors import MolecularDescriptorCalculator\n",
    "\n",
    "# Define the descriptors you want to calculate\n",
    "descriptors = [\n",
    "    'TPSA',\n",
    "    'MolLogP',\n",
    "    'NumHAcceptors',\n",
    "    'NumHDonors',\n",
    "    'RingCount',\n",
    "    'NumAromaticHeterocycles'\n",
    "]\n",
    "\n",
    "calculator = MolecularDescriptorCalculator(descriptors)\n",
    "\n",
    "# Filter the DataFrame for the specified ChEMBL IDs\n",
    "selected_chembl_ids = ['CHEMBL133342', 'CHEMBL52387', 'CHEMBL461557']\n",
    "selected_mols = data_subset[(data_subset['ChEMBL ID'].isin(selected_chembl_ids)) & (data_subset['standardized_mol'].notna())]\n",
    "\n",
    "# Calculate descriptors only for the selected valid molecules\n",
    "properties = selected_mols['standardized_mol'].apply(lambda mol: calculator.CalcDescriptors(mol))\n",
    "\n",
    "df_properties = pd.DataFrame(properties.tolist(), columns=descriptors, index=selected_mols['ChEMBL ID'].values)\n",
    "\n",
    "df_properties"
   ]
  },
  {
   "cell_type": "markdown",
   "metadata": {},
   "source": [
    "Roscovitine, a widely studied CDK inhibitor available in both (R)- and (S)-enantiomeric forms which are shown here as `(CHEMBL133342, (S)-ROSCOVITINE) and (CHEMBL52387, (RS)-ROSCOVITINE)`, have demonstrated a reduction in brain lesions in models of both global and focal cerebral ischemia. The (S)-isomer of roscovitine, in particular, has been shown to reduce brain damage by modulating NVU responses to ischemia, including inflammation and cellular protection. Additionally, roscovitine has been effective in decreasing leukocyte-mediated inflammation in other inflammatory conditions. CDKs, specifically CDK1, CDK2, CDK5, CDK7, and CDK9, have been identified as key players in the inflammatory responses of NVU cells and leukocytes following brain injury, highlighting roscovitine's therapeutic potential.\n",
    "\n",
    "The beneficial effects of both (R)- and (S)-roscovitine in ischemic stroke models are well-documented. (S)-roscovitine has been shown to reduce brain edema and infarct volume, with protective effects linked to decreased neuronal death, preservation of the blood-brain barrier (BBB), endothelial protection, reduced microglial proliferation, and attenuation of astrocyte reactivity. (R)-roscovitine has also demonstrated activity on NVU cells and leukocytes in non-ischemic models. Specific inhibition of CDK1, CDK2, CDK5, CDK7, and CDK9, roscovitine's primary targets, reveals their involvement in multiple inflammatory pathways within both NVU cells and leukocytes during cerebral ischemia.\n",
    "\n",
    "The differences between the molecules `CHEMBL52387`, `CHEMBL133342`, and `CHEMBL461557` can be observed through their physicochemical properties, which may influence their biological activity and therapeutic potential in ischemic stroke models. Both CHEMBL52387 (RS-roscovitine) and CHEMBL133342 (S-roscovitine) share identical properties with a total polar surface area (TPSA) of 87.89, a logP value of 3.20, seven hydrogen bond acceptors, three hydrogen bond donors, three rings, and two aromatic heterocycles. Their structural similarity suggests they have comparable aqueous solubility and membrane permeability, factors that are critical for effective blood-brain barrier (BBB) penetration in neurological therapies. The primary distinction between these two molecules is their stereochemistry, with CHEMBL133342 representing the pure (S)-enantiomer and CHEMBL52387 being the racemic mixture.\n",
    "\n",
    "In contrast, CHEMBL461557 exhibits a higher logP value (4.87), indicating increased lipophilicity compared to the other two molecules. This difference could affect its pharmacokinetic properties, such as enhanced membrane permeability but potentially lower aqueous solubility. Additionally, CHEMBL461557 has a higher ring count (4) while maintaining the same TPSA (87.89) and hydrogen bonding profile as the other two molecules, suggesting a slightly bulkier structure that could influence its interaction with CDK binding sites. Despite these structural variations, all three molecules support the cited hypothesis that each compound could contribute to reducing brain inflammation and tissue damage following ischemic stroke, with differences in stereochemistry and lipophilicity potentially influencing their therapeutic efficiency and bioavailability.\n",
    "\n",
    "Le Roy, L., Letondor, A., Le Roux, C., Amara, A., & Timsit, S. (2021). Cellular and Molecular Mechanisms of R/S-Roscovitine and CDKs Related Inhibition under Both Focal and Global Cerebral Ischemia: A Focus on Neurovascular Unit and Immune Cells. Cells, 10(1), 104. https://doi.org/10.3390/cells10010104"
   ]
  },
  {
   "cell_type": "code",
   "execution_count": 35,
   "metadata": {},
   "outputs": [
    {
     "data": {
      "image/png": "[encoded data removed]",
      "text/plain": [
       "<IPython.core.display.Image object>"
      ]
     },
     "execution_count": 35,
     "metadata": {},
     "output_type": "execute_result"
    }
   ],
   "source": [
    "CHEMBL52387 = data_subset.loc[data_subset['ChEMBL ID'] == 'CHEMBL52387', 'standardized_mol'].iloc[0]\n",
    "CHEMBL133342 = data_subset.loc[data_subset['ChEMBL ID'] == 'CHEMBL133342', 'standardized_mol'].iloc[0]\n",
    "CHEMBL461557 = data_subset.loc[data_subset['ChEMBL ID'] == 'CHEMBL461557', 'standardized_mol'].iloc[0]\n",
    "\n",
    "mols = [CHEMBL52387, CHEMBL133342, CHEMBL461557]\n",
    "names = ['CHEMBL52387', 'CHEMBL133342', 'CHEMBL461557']\n",
    "\n",
    "grid = Draw.MolsToGridImage(mols , legends=names)\n",
    "\n",
    "grid"
   ]
  }
 ],
 "metadata": {
  "kernelspec": {
   "display_name": "Python 3",
   "language": "python",
   "name": "python3"
  },
  "language_info": {
   "codemirror_mode": {
    "name": "ipython",
    "version": 3
   },
   "file_extension": ".py",
   "mimetype": "text/x-python",
   "name": "python",
   "nbconvert_exporter": "python",
   "pygments_lexer": "ipython3",
   "version": "3.11.1"
  }
 },
 "nbformat": 4,
 "nbformat_minor": 2
}
